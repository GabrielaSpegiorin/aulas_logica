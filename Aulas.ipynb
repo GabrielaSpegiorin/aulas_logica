{
 "cells": [
  {
   "cell_type": "markdown",
   "metadata": {},
   "source": [
    "Aula 16/02/2024 - Comandos de saída (input) / Tipos de dados (string, int, float, bool) / Operações aritméticas (+ - * % **)\n"
   ]
  },
  {
   "cell_type": "code",
   "execution_count": null,
   "metadata": {},
   "outputs": [
    {
     "name": "stdout",
     "output_type": "stream",
     "text": [
      "Olá, Mundo!\n",
      "Meu primeiro código em Python, Usando aspas duplas\n",
      "Meu primeiro código em Python, Usando aspas duplas\n",
      "Para duplicar uma linha pressionei shift + alt + Seta baixo\n",
      "123\n",
      "70.5\n",
      "True\n",
      "Sesi\n",
      "14\n",
      "86\n",
      "86\n",
      "string 10 70.5 False\n",
      "60\n",
      "54\n",
      "1316223135288\n",
      "1609.0\n",
      "1\n",
      "27\n",
      "11.0\n"
     ]
    }
   ],
   "source": [
    "#Este é o meu primeiro código\n",
    "#a função print serve para exibir na tela alguma mensagem \n",
    "print(\"Olá, Mundo!\")\n",
    "\n",
    "print(\"Meu primeiro código em Python, Usando aspas duplas\")\n",
    "print(\"Meu primeiro código em Python, Usando aspas duplas\")\n",
    "print('Para duplicar uma linha pressionei shift + alt + Seta baixo')\n",
    "\n",
    "print(123) #Estou exibindo um número inteiro, por isso, preciso da \"\"\n",
    "print(70.5) #Número float\n",
    "print(True) #Campo lógico (verdadeiro ou falso) (True ou False)\n",
    "print(\"Sesi\") #Tipo string\n",
    "\n",
    "print(8 + 6)\n",
    "print('8' + '6')\n",
    "#Porém se forem 2 strings (o sinal de + realiza a CONCATENAÇÃO)\n",
    "print('8'+'6')\n",
    "\n",
    "#Posso imprimir várias informações ao mesmo tempo separando-as por ,\n",
    "print ('string', 10, 70.5, False) \n",
    "\n",
    "\n",
    "print (10+50) # + é o operador de SOMA (número inteiro ou decimal)\n",
    "print (67-13) # - é o operador de SUBTRAÇÃO (número inteiro ou decimal)\n",
    "print (4214328 *312321) # * é o operador de MULTIPLICAÇÃO\n",
    "print (4827/3) # / é o operador de divisão\n",
    "print (31 % 2) # % é o operador do  resto da divisão (MÓDULO)\n",
    "print (3 ** 3) #I ** é o operador de exponenciação 3³\n",
    "\n",
    "print (8+6/2) # o Parênteses define a maior ordem de precedência\n",
    "\n",
    "\n",
    " "
   ]
  },
  {
   "cell_type": "markdown",
   "metadata": {},
   "source": [
    "Aula 22/02/2024 - Comandos de entrada (input) / Variáveis / Pseudocódigo\n"
   ]
  },
  {
   "cell_type": "code",
   "execution_count": null,
   "metadata": {},
   "outputs": [
    {
     "name": "stdout",
     "output_type": "stream",
     "text": [
      "curso\n",
      "Desenvolvimento de Sistemas\n",
      "curso Desenvolvimento de Sistemas\n",
      "Olá Gabi Você tem 16 Hoje está fazendo 32.0\n",
      "Gabi 16 47.0\n",
      "Seu nome é Gabi, você tem 16 anos e pesa 47.0kg\n"
     ]
    }
   ],
   "source": [
    "#Declarando minha primeira variável\n",
    "#lemos da seguinte forma: \n",
    "#variavel curso recebe(=) a string \"Desenvolvimento de Sistemas\"\n",
    "#Receba/Armazene o texto \"Desenvolvimento de Sistemas\" \n",
    "curso = \"Desenvolvimento de Sistemas\"\n",
    "#Exiba o valor armazenado\n",
    "print (\"curso\") #Para imprimir uma váriavel não se coloca entre \" \"\n",
    "print (curso) #Jeito correto de ultilizar uma variavel \n",
    "print (\"curso\",curso)\n",
    "\n",
    "#Criando e atribuindo uma variavel\n",
    "Idade = 16 \n",
    "Temperatura = 32.0\n",
    "Nome = \"Gabi\"\n",
    "#Exiba o valor das 3 variáveis \n",
    "print (\"Olá\", Nome, \"Você tem\", Idade, \"Hoje está fazendo\", Temperatura)\n",
    "\n",
    "chovendo = False\n",
    "Dia = True\n",
    "\n",
    "#Nesta linha abaixo ocorrerá um erro pois não existe uma variável com o nome salário,\n",
    "#Então não consegue encontrar nada para exibir \n",
    "#NameError: name 'salario' is not defined\n",
    "#Print ('Salário', salário)\n",
    "\n",
    "#Declaramos uma constante, diferentemente da variável que posso alterar o valor, na constante não é permitido,\n",
    "#Declaramos com o nome todo em maiusculo \n",
    "PI = 3.1415\n",
    "\n",
    "#Passo 1: Receber o nome da pessoa \n",
    "#No input sempre recebemos uma string \n",
    "Nome = input ('Qual é o seu nome?') \n",
    "\n",
    "#Passo 2: Receber a idade da pessoa\n",
    "#Posso converter essa string recebida do tipo inteiro \n",
    "Idade = input ('Qual é a sua idade?') \n",
    "\n",
    "#Passo 3: Receber o peso da pessoa\n",
    "#Posso converter essa string recebida do tipo float\n",
    "Peso = input ('Qual é o seu peso?') \n",
    "\n",
    "#Passo 4: Exibir o nome, a idade e o peso\n",
    "print (Nome, Idade, Peso)\n",
    "print (f'Seu nome é {Nome}, você tem {Idade} anos e pesa {Peso}kg')\n",
    "\n",
    "#Exibindo os tipos de variáveis \n",
    "#Tudo que recebemos do input é do tipo string\n",
    "print(type(nome), type(idade), type(peso))\n",
    "\n",
    "\n"
   ]
  },
  {
   "cell_type": "markdown",
   "metadata": {},
   "source": [
    "23/02/2024 - Operações com váriaveis "
   ]
  },
  {
   "cell_type": "code",
   "execution_count": null,
   "metadata": {},
   "outputs": [
    {
     "name": "stdout",
     "output_type": "stream",
     "text": [
      "56.0\n"
     ]
    }
   ],
   "source": [
    "n1 = float(input('Digite o primeiro número'))\n",
    "n2= float(input('Digite o segundo número'))\n",
    "resultado = n1 * n2 \n",
    "print (resultado)\n",
    "\n",
    "\n"
   ]
  },
  {
   "cell_type": "code",
   "execution_count": null,
   "metadata": {},
   "outputs": [
    {
     "name": "stdout",
     "output_type": "stream",
     "text": [
      "3000.0\n"
     ]
    }
   ],
   "source": [
    "preco = float (input('Qual o valor do celular?'))\n",
    "desconto = float(input('Qual valor do desconto'))\n",
    "#Atualizando o valor do produto com o desconto\n",
    "#??????????????????????????\n",
    "novo_preco = preco - desconto ##ERRADA\n",
    "print (preco)\n"
   ]
  },
  {
   "cell_type": "code",
   "execution_count": null,
   "metadata": {},
   "outputs": [
    {
     "name": "stdout",
     "output_type": "stream",
     "text": [
      "2.0\n",
      "4.0\n",
      "120.0\n",
      "o valor final é 120.0\n"
     ]
    }
   ],
   "source": [
    "numero = 4/2\n",
    "print (numero)\n",
    "\n",
    "numero = numero**2\n",
    "print (numero)\n",
    "\n",
    "numero = numero * (50-20) \n",
    "print (numero) \n",
    "print (f'o valor final é {numero}')\n"
   ]
  },
  {
   "cell_type": "code",
   "execution_count": null,
   "metadata": {},
   "outputs": [
    {
     "name": "stdout",
     "output_type": "stream",
     "text": [
      " Você deve cobrar R$ 12000\n"
     ]
    }
   ],
   "source": [
    "horas_por_dia = 8\n",
    "dias_totais = 15\n",
    "horas_trabalho = horas_por_dia * dias_totais\n",
    "custo_hora = 100\n",
    "custo_total = horas_trabalho * custo_hora\n",
    "print(f' Você deve cobrar R$ {custo_total}')\n",
    "\n",
    "\n"
   ]
  },
  {
   "cell_type": "markdown",
   "metadata": {},
   "source": [
    "24/02/2024 - Operadores relacionais e estrutura condicional"
   ]
  },
  {
   "cell_type": "code",
   "execution_count": null,
   "metadata": {},
   "outputs": [
    {
     "name": "stdout",
     "output_type": "stream",
     "text": [
      "a > b ? False\n",
      "a == b ? False\n",
      "a != b ? True\n",
      "a > 2 ? False\n",
      "a >= 2 ? True\n"
     ]
    }
   ],
   "source": [
    "a = 2\n",
    "b = 3\n",
    "print(f'a > b ? {a > b}')\n",
    "print(f'a == b ? {a == b}')\n",
    "print(f'a != b ? {a != b}')\n",
    "print(f'a > 2 ? {a > 2}')\n",
    "print(f'a >= 2 ? {a >= 2}')"
   ]
  },
  {
   "cell_type": "code",
   "execution_count": null,
   "metadata": {},
   "outputs": [
    {
     "name": "stdout",
     "output_type": "stream",
     "text": [
      "Posso entrar\n",
      "fim\n"
     ]
    }
   ],
   "source": [
    "tenho_ingresso = True\n",
    "if tenho_ingresso == True:\n",
    " print('Posso entrar')\n",
    " print('fim')\n",
    " "
   ]
  },
  {
   "cell_type": "code",
   "execution_count": null,
   "metadata": {},
   "outputs": [
    {
     "name": "stdout",
     "output_type": "stream",
     "text": [
      "FIM\n"
     ]
    }
   ],
   "source": [
    "#Passo 1: Receber o valor da idade\n",
    "Idade = int(input('Qual sua idade?'))\n",
    "#Passo 2: Verificar SE é maior ou igual a 18 ENTÃO\n",
    "if Idade >= 18:\n",
    "    #Passo 3: Se for Exibir \"Maior idade\"\n",
    "    print('Maior idade')\n",
    "    \n",
    "    \n",
    "print('FIM')\n",
    "    \n"
   ]
  },
  {
   "cell_type": "code",
   "execution_count": null,
   "metadata": {},
   "outputs": [
    {
     "name": "stdout",
     "output_type": "stream",
     "text": [
      "Posso entrar\n"
     ]
    }
   ],
   "source": [
    "tenho_ingresso = True\n",
    "if tenho_ingresso == True :\n",
    "    print ('Posso entrar')\n",
    "else :\n",
    "    print('Vá comprar')\n",
    "\n",
    "    print('Fim')\n"
   ]
  },
  {
   "cell_type": "markdown",
   "metadata": {},
   "source": [
    "01/03/2024"
   ]
  },
  {
   "cell_type": "code",
   "execution_count": null,
   "metadata": {},
   "outputs": [
    {
     "name": "stdout",
     "output_type": "stream",
     "text": [
      "False\n",
      "False\n",
      "True\n",
      "True\n"
     ]
    }
   ],
   "source": [
    "a = 2\n",
    "b = 3\n",
    "c = 5\n",
    "#      False   e   False\n",
    "print((a > 2) and (b < 2))  #False\n",
    "\n",
    "#      False  ou  False\n",
    "print((a > 2) or (b < 2))  #False\n",
    "\n",
    "#      False  ou  True\n",
    "print((a > 2) or (b < 5))  #True\n",
    "\n",
    "# exemplo:\n",
    "idade = 18\n",
    "#        False         True\n",
    "print(idade > 18 or idade == 18)  #True\n",
    "#             idade >= 18"
   ]
  },
  {
   "cell_type": "code",
   "execution_count": null,
   "metadata": {},
   "outputs": [],
   "source": [
    "lado1 = input('digite lado 1:')\n",
    "lado2 = input('digite lado 2:')\n",
    "lado3 = input('digite lado 3:')\n"
   ]
  },
  {
   "cell_type": "code",
   "execution_count": null,
   "metadata": {},
   "outputs": [
    {
     "name": "stdout",
     "output_type": "stream",
     "text": [
      "Peso ideal!\n"
     ]
    }
   ],
   "source": [
    "altura = float(input('digite sua altura'))\n",
    "Peso = float(input('digite seu peso'))\n",
    "imc = Peso / (altura ** 2)\n",
    "if imc < 18.5:\n",
    "    print ('Abaixo do peso ideal!')\n",
    "elif imc >= 18.6 and imc <= 24.9 :\n",
    "    print ('Peso ideal!')\n",
    "elif imc >= 25 and imc <= 29.9:\n",
    "    print('Sobrepeso')\n",
    "else:\n",
    "     print ('Obsidade')\n",
    "\n"
   ]
  },
  {
   "cell_type": "code",
   "execution_count": null,
   "metadata": {},
   "outputs": [
    {
     "name": "stdout",
     "output_type": "stream",
     "text": [
      "Triangulo escaleno\n"
     ]
    }
   ],
   "source": [
    "lado1 = input ('Digite lado 1:')\n",
    "lado2 = input ('Digite o lado 2:')\n",
    "lado3 =  input ('Digite o lado 3:')\n",
    "if (lado1 == lado2) and (lado2 == lado3):\n",
    "    print ('Triangulo Equilatero')\n",
    "elif lado1 != lado2 and lado2 != lado3 and lado3 != lado1 :\n",
    "    print ('Triangulo escaleno')\n",
    "else :\n",
    "    print ('Triangulo isosceles')\n",
    "    "
   ]
  },
  {
   "cell_type": "code",
   "execution_count": null,
   "metadata": {},
   "outputs": [
    {
     "name": "stdout",
     "output_type": "stream",
     "text": [
      "a letra P é uma consoante\n"
     ]
    }
   ],
   "source": [
    "letra = input(\"Digite uma letra\")\n",
    "if letra == 'a' or letra == 'e' or letra == 'i' or letra == 'o' or letra =='u':\n",
    "    print(f'a letra {letra} é uma vogal')\n",
    "else:\n",
    "    print(f'a letra {letra} é uma consoante')\n",
    "    \n"
   ]
  },
  {
   "cell_type": "markdown",
   "metadata": {},
   "source": [
    "07/03/2024 - Estrutura condicional aninhada / match case "
   ]
  },
  {
   "cell_type": "code",
   "execution_count": null,
   "metadata": {},
   "outputs": [
    {
     "name": "stdout",
     "output_type": "stream",
     "text": [
      "Seu voto é facultativo\n"
     ]
    }
   ],
   "source": [
    "idade = int(input('Digite sua idade'))\n",
    "if idade >= 18 and idade <= 70:\n",
    "    print ('Você é obrigado a votar')\n",
    "else: \n",
    " if idade < 16:\n",
    "    print ('Você não pode votar') \n",
    " else:\n",
    "    if idade >= 16 or idade > 70:\n",
    "       print ('Seu voto é facultativo')     "
   ]
  },
  {
   "cell_type": "code",
   "execution_count": null,
   "metadata": {},
   "outputs": [
    {
     "name": "stdout",
     "output_type": "stream",
     "text": [
      "4+5=9\n"
     ]
    }
   ],
   "source": [
    "valor1 = int(input('Digite um número inteiro'))\n",
    "valor2 = int(input('Digite um número inteiro'))\n",
    "operador = (input('Digite o operador + - * / **'))\n",
    "match operador:\n",
    "    case '+':\n",
    "        print(f'{valor1}+{valor2}={valor1+valor2}')\n",
    "    case '-':\n",
    "        print (f'{valor1}-{valor2}={valor1+valor2}')\n",
    "    case '*':\n",
    "        print (f'{valor1}*{valor2}={valor1+valor2}')\n",
    "    case '/':\n",
    "        print(f'{valor1}/{valor2}={valor1+valor2}')\n",
    "    case '**':\n",
    "        print (f'{valor1}**{valor2}={valor1+valor2}')\n",
    "\n",
    "\n"
   ]
  },
  {
   "cell_type": "markdown",
   "metadata": {},
   "source": [
    "08/03/2024 - Laço de repetição - While"
   ]
  },
  {
   "cell_type": "code",
   "execution_count": null,
   "metadata": {},
   "outputs": [
    {
     "name": "stdout",
     "output_type": "stream",
     "text": [
      "Eu não vou prestar atenção na aula\n",
      "Eu não vou prestar atenção na aula\n",
      "Eu não vou prestar atenção na aula\n",
      "Eu não vou prestar atenção na aula\n",
      "Eu não vou prestar atenção na aula\n",
      "Eu não vou prestar atenção na aula\n",
      "Eu não vou prestar atenção na aula\n",
      "Eu não vou prestar atenção na aula\n",
      "Eu não vou prestar atenção na aula\n",
      "Eu não vou prestar atenção na aula\n",
      "FIM\n"
     ]
    }
   ],
   "source": [
    "X = 1 \n",
    "while X <= 10:\n",
    "    print ('Eu não vou prestar atenção na aula')\n",
    "    X = X + 1\n",
    "print ('FIM')"
   ]
  },
  {
   "cell_type": "code",
   "execution_count": null,
   "metadata": {},
   "outputs": [
    {
     "name": "stdout",
     "output_type": "stream",
     "text": [
      "10\n",
      "9\n",
      "8\n",
      "7\n",
      "6\n",
      "5\n",
      "4\n",
      "3\n",
      "2\n",
      "1\n",
      "0\n",
      "Feliz ano novo 🎆\n"
     ]
    }
   ],
   "source": [
    "import time #Importando uma biblioteca de tempo\n",
    "x = 10 \n",
    "while x >= 0:\n",
    "    print(x)\n",
    "    time.sleep(0.5) #Dando uma pausa de 1s na execução\n",
    "    x = x - 1 \n",
    "print ('Feliz ano novo 🎆') \n"
   ]
  },
  {
   "cell_type": "code",
   "execution_count": null,
   "metadata": {},
   "outputs": [
    {
     "name": "stdout",
     "output_type": "stream",
     "text": [
      "Seja bem vindo, joelmo\n",
      "Seja bem vindo, gabi\n",
      "Seja bem vindo, sair\n"
     ]
    }
   ],
   "source": [
    "texto = ''\n",
    "while texto != 'sair':\n",
    "  texto = input('Digite seu nome (\"sair\" para terminar):')\n",
    "  print (f'Seja bem vindo, {texto}')\n",
    "  "
   ]
  },
  {
   "cell_type": "code",
   "execution_count": null,
   "metadata": {},
   "outputs": [
    {
     "name": "stdout",
     "output_type": "stream",
     "text": [
      "Você está preso tentando hackear a rede\n",
      "FIM\n"
     ]
    }
   ],
   "source": [
    "senha_senai = 'Joguem friv jogos'\n",
    "nr_tentativa = 0\n",
    "while True :\n",
    "    senha = input ('Qual é a senha 🤯?\"Desisto\" para sair😮')\n",
    "    if senha == senha_senai :\n",
    "        print('Você hackeou a rede')\n",
    "        break   \n",
    "    elif senha == 'Desisto': \n",
    "        break\n",
    "    else:\n",
    "        nr_tentativa = nr_tentativa + 1\n",
    "        if nr_tentativa == 3:\n",
    "            print ('Você está preso tentando hackear a rede')\n",
    "            break\n",
    "print ('FIM')\n",
    "\n"
   ]
  },
  {
   "cell_type": "markdown",
   "metadata": {},
   "source": [
    "21/03/2024 - Revisão do while"
   ]
  },
  {
   "cell_type": "code",
   "execution_count": null,
   "metadata": {},
   "outputs": [
    {
     "name": "stdout",
     "output_type": "stream",
     "text": [
      "FIM\n"
     ]
    }
   ],
   "source": [
    "resp = 's' \n",
    "while resp == 's' :\n",
    "    resp = input('Deseja continuar? [S/N]')\n",
    "\n",
    "print('FIM')"
   ]
  },
  {
   "cell_type": "code",
   "execution_count": null,
   "metadata": {},
   "outputs": [
    {
     "name": "stdout",
     "output_type": "stream",
     "text": [
      "valor total R$ 20.00 qtde produto 1\n"
     ]
    }
   ],
   "source": [
    "soma = 0\n",
    "qtde = 0\n",
    "while True : \n",
    "    valor = float(input('digite o valor do produto [-1 para encerrar]'))\n",
    "    if valor == -1 :\n",
    "        break\n",
    "    soma = valor + valor\n",
    "    qtde = qtde + 1 \n",
    "\n",
    "print (f'valor total R$ {soma:.2f} qtde produto {qtde}')"
   ]
  },
  {
   "cell_type": "code",
   "execution_count": null,
   "metadata": {},
   "outputs": [
    {
     "name": "stdout",
     "output_type": "stream",
     "text": [
      "24\n",
      "-=-=-=-=-=-=-=-=-=-=-=-=-=-=-\n",
      "  🤔jogo da adivinhação🤔    \n",
      "=============================\n",
      "você chutou 24. Parabéns você aertou 👏👏👏\n"
     ]
    }
   ],
   "source": [
    "#importando a biblioteca de numeros aleatorios \n",
    "import random\n",
    "#sorteando um numero de 1 a 100\n",
    "nrSorteado = random.randint(1, 100)\n",
    "print(nrSorteado)\n",
    "print('-=-=-=-=-=-=-=-=-=-=-=-=-=-=-')\n",
    "print('  🤔jogo da adivinhação🤔    ')\n",
    "print('=============================')\n",
    "\n",
    "acertou = False\n",
    "while acertou == False : \n",
    "    chute = int(input('🕵️‍♂️ digite um numero entre 1 e 100: '))\n",
    "    if chute == nrSorteado :\n",
    "        print(f'você chutou {chute}. Parabéns você aertou 👏👏👏')\n",
    "        acertou = True\n",
    "    elif chute > nrSorteado :\n",
    "        print (f'você chutou {chute}. Tente um numero 👇')\n",
    "    else:\n",
    "        print(f'você chutou {chute}. Tente um numero 👆')\n",
    "\n",
    "        print('FIM')"
   ]
  },
  {
   "cell_type": "markdown",
   "metadata": {},
   "source": [
    "22/03/2024 - For"
   ]
  },
  {
   "cell_type": "code",
   "execution_count": null,
   "metadata": {},
   "outputs": [
    {
     "name": "stdout",
     "output_type": "stream",
     "text": [
      "0\n",
      "1\n",
      "2\n",
      "3\n",
      "4\n"
     ]
    }
   ],
   "source": [
    "for x in range (5) :\n",
    "    print(x)\n"
   ]
  },
  {
   "cell_type": "code",
   "execution_count": null,
   "metadata": {},
   "outputs": [
    {
     "name": "stdout",
     "output_type": "stream",
     "text": [
      "Entregando os notebooks\n",
      "Não pegar o notebook\n",
      "Não pegar o notebook\n",
      "Não pegar o notebook\n",
      "Pegar o notebook 4\n",
      "Pegar o mouse 4\n",
      "levar o notebook até o 4\n",
      "Não pegar o notebook\n",
      "Não pegar o notebook\n",
      "Não pegar o notebook\n"
     ]
    }
   ],
   "source": [
    "print ('Entregando os notebooks')\n",
    "for nr in range (32) :\n",
    "    nr = nr + 1\n",
    "    nome = input(f'Quem é o Nº {nr}?')\n",
    "    presente = input(f'O(a) {nome} veio para a escola?[S/N]')\n",
    "    if presente == 'S':\n",
    "        print(f'Pegar o notebook {nr}')\n",
    "        print(f'Pegar o mouse {nr}')\n",
    "        print(f'levar o notebook até o {nr}')\n",
    "    else:\n",
    "        print(f'Não pegar o notebook') \n",
    "\n",
    "        print (f'Começar a aula')"
   ]
  },
  {
   "cell_type": "code",
   "execution_count": null,
   "metadata": {},
   "outputs": [
    {
     "name": "stdout",
     "output_type": "stream",
     "text": [
      "5\n",
      "6\n",
      "7\n",
      "8\n",
      "9\n"
     ]
    }
   ],
   "source": [
    "for x in range(5,10) : \n",
    "    print (x)"
   ]
  },
  {
   "cell_type": "code",
   "execution_count": null,
   "metadata": {},
   "outputs": [
    {
     "name": "stdout",
     "output_type": "stream",
     "text": [
      "5\n",
      "9\n",
      "13\n",
      "17\n",
      "21\n",
      "25\n",
      "29\n"
     ]
    }
   ],
   "source": [
    "for x in range (5,30, 4) :\n",
    "    print(x)\n",
    "    \n"
   ]
  },
  {
   "cell_type": "code",
   "execution_count": null,
   "metadata": {},
   "outputs": [
    {
     "name": "stdout",
     "output_type": "stream",
     "text": [
      "8 x 0 = 0\n",
      "8 x 1 = 8\n",
      "8 x 2 = 16\n",
      "8 x 3 = 24\n",
      "8 x 4 = 32\n",
      "8 x 5 = 40\n",
      "8 x 6 = 48\n",
      "8 x 7 = 56\n",
      "8 x 8 = 64\n",
      "8 x 9 = 72\n",
      "8 x 10 = 80\n"
     ]
    }
   ],
   "source": [
    "n = 8 \n",
    "for x in range (11):\n",
    "    print(f'{n} x {x} = {n*x}')\n",
    "    "
   ]
  },
  {
   "cell_type": "markdown",
   "metadata": {},
   "source": [
    "28/03/2024 - Váriaveis compostas - Vetores/Listas"
   ]
  },
  {
   "cell_type": "code",
   "execution_count": null,
   "metadata": {},
   "outputs": [
    {
     "name": "stdout",
     "output_type": "stream",
     "text": [
      "['Maça', 'Banana', 'Abacaxi', 'Uva']\n",
      "Banana\n"
     ]
    }
   ],
   "source": [
    "frutas = ['Maça', 'Banana', 'Abacaxi', 'Uva']\n",
    "print(frutas)\n",
    "print(frutas[1])\n",
    "\n",
    "#Declaração de uma lista vazia \n",
    "lista_vazia = []\n",
    "\n",
    "#Declaração de uma lista de números \n",
    "numeros = [5, 8, 10, 40, 3]\n",
    "\n",
    "#Declaração de uma lista de strings \n",
    "nomes = ['Ana', 'João', 'Maria']\n",
    "\n",
    "#Declaração de uma lista mista \n",
    "lista_mista = [1, \"teste\", True, 3.5]\n",
    "\n"
   ]
  },
  {
   "cell_type": "code",
   "execution_count": null,
   "metadata": {},
   "outputs": [
    {
     "name": "stdout",
     "output_type": "stream",
     "text": [
      "['Maça', 'Banana', 'Abacaxi', 'Melancia']\n"
     ]
    }
   ],
   "source": [
    "frutas = ['Maça', 'Banana', 'Abacaxi', 'Uva']\n",
    "frutas [3] = 'Melancia'\n",
    "print(frutas)"
   ]
  },
  {
   "cell_type": "code",
   "execution_count": null,
   "metadata": {},
   "outputs": [
    {
     "name": "stdout",
     "output_type": "stream",
     "text": [
      "['Maçã', 'Banana', 'Abacaxi', 'Melancia']\n",
      "['Maçã', 'Banana', 'Abacaxi', 'Melancia', 'Laranja']\n"
     ]
    }
   ],
   "source": [
    "frutas = ['Maçã', 'Banana', 'Abacaxi', 'Uva']\n",
    "#Alterando o valor de um item da lista \n",
    "frutas [3] = 'Melancia'\n",
    "print(frutas)\n",
    "#Incluindo um novo item no final da lista\n",
    "frutas.append('Laranja')\n",
    "print(frutas)\n",
    "#Incluindo um novo item em uma posição específica \n",
    "frutas.insert(2, 'Morango')\n",
    "print(frutas)\n",
    "#Excluindo item da lista pelo índice \n",
    "#del frutas [3]\n",
    "#frutas.pop(3)\n",
    "frutas.remove ('Abacaxi')\n",
    "#Excluindo último item da lista\n",
    "frutas.pop()\n",
    "print(frutas)\n"
   ]
  },
  {
   "cell_type": "code",
   "execution_count": null,
   "metadata": {},
   "outputs": [
    {
     "name": "stdout",
     "output_type": "stream",
     "text": [
      "Melancia\n",
      "['Maçã', 'Banana', 'Morango', 'Abacaxi']\n",
      "['Banana', 'Morango', 'Abacaxi', 'Melancia', 'Laranja', 'Uva']\n",
      "['Laranja', 'Uva']\n",
      "Uva\n",
      "7\n",
      "['Abacaxi', 'Banana', 'Laranja', 'Maçã', 'Melancia', 'Morango', 'Uva']\n",
      "['Uva', 'Morango', 'Melancia', 'Maçã', 'Laranja', 'Banana', 'Abacaxi']\n"
     ]
    }
   ],
   "source": [
    "frutas = ['Maçã', 'Banana', 'Morango', 'Abacaxi', 'Melancia', 'Laranja', 'Uva']\n",
    "print(frutas[4]) #Posição específica\n",
    "print(frutas[0:4]) #Da posição 0 pegar 4 itens \n",
    "print(frutas [1:]) #Da posição 1 até o último\n",
    "print(frutas[-2:]) #Nr do itens do fim pro ínicio \n",
    "print(frutas[-1]) #Ultimo item da lista\n",
    "print(len(frutas)) #Total de itens da lista\n",
    "\n",
    "frutas.sort () #Ordenando lista em ordem crescente\n",
    "print (frutas)\n",
    "frutas.reverse () #Ordenando lista em ordem crescente \n",
    "print (frutas)"
   ]
  },
  {
   "cell_type": "markdown",
   "metadata": {},
   "source": [
    "Aula 04/04/2024 - Iteração em listas "
   ]
  },
  {
   "cell_type": "code",
   "execution_count": null,
   "metadata": {},
   "outputs": [
    {
     "name": "stdout",
     "output_type": "stream",
     "text": [
      "Não é uma letra\n"
     ]
    }
   ],
   "source": [
    "#Criando uma lista de vogais \n",
    "vogais = ['a', 'e', 'i', 'o','u']\n",
    "consoantes = ['q', 'w','r','t','y', 'p','s','d', 'f', 'g', 'h','j','k','l','z','x','c','v','b','n','m']\n",
    "#recebendo um caractere digitado pelo usuário\n",
    "letra = input ('informe um caractere')\n",
    "#o método .lower() deixa todas as letras digitadas como minúscula\n",
    "#o método .upper() deixa todas as letras digitadas como maiúscula\n",
    "#lemos da seguinte forma:\n",
    "#Se a letra em minúscula estiver na lista de vogais então \n",
    "if letra.lower() in vogais:\n",
    "    print ('É uma vogal')\n",
    "elif letra.lower() in consoantes:\n",
    "    print ('É uma consoante')\n",
    "else:\n",
    "    print ('Não é uma letra')"
   ]
  },
  {
   "cell_type": "code",
   "execution_count": 17,
   "metadata": {},
   "outputs": [
    {
     "name": "stdout",
     "output_type": "stream",
     "text": [
      "É um número Impar\n"
     ]
    }
   ],
   "source": [
    "#Criando lista de números\n",
    "número = input ('Digite um número de 1 a 9')\n",
    "Impar = ['1', '3', '5','7','9']\n",
    "Par = ['2','4','6','8']\n",
    "if número in Impar:\n",
    "   print ('É um número Impar')\n",
    "elif número in Par:\n",
    "   print ('É um número Par')\n"
   ]
  },
  {
   "cell_type": "code",
   "execution_count": 18,
   "metadata": {},
   "outputs": [
    {
     "name": "stdout",
     "output_type": "stream",
     "text": [
      "Pelé\n",
      "Maradona\n",
      "Neymar\n",
      "Cristiano Ronaldo\n"
     ]
    }
   ],
   "source": [
    "listaNomes = ['Pelé', 'Maradona', 'Neymar', 'Cristiano Ronaldo']\n",
    "for nome in listaNomes:\n",
    "    print (nome)\n",
    "    "
   ]
  },
  {
   "cell_type": "code",
   "execution_count": 19,
   "metadata": {},
   "outputs": [
    {
     "name": "stdout",
     "output_type": "stream",
     "text": [
      "4\n",
      "10\n",
      "12\n",
      "17\n",
      "26\n"
     ]
    }
   ],
   "source": [
    "listaNrs = [4,6,2,5,9]\n",
    "soma = 0 \n",
    "for nr in listaNrs:\n",
    "    soma = soma + nr \n",
    "    print (soma)"
   ]
  },
  {
   "cell_type": "code",
   "execution_count": 21,
   "metadata": {},
   "outputs": [
    {
     "name": "stdout",
     "output_type": "stream",
     "text": [
      "A fruta Maça está na posição 0\n",
      "A fruta Banana está na posição 1\n",
      "A fruta Abacaxi está na posição 2\n",
      "A fruta Uva está na posição 3\n"
     ]
    }
   ],
   "source": [
    "listaFrutas = ['Maça','Banana', 'Abacaxi', 'Uva']\n",
    "for pos, fruta in enumerate (listaFrutas):\n",
    "    print(f'A fruta {fruta} está na posição {pos}')\n"
   ]
  },
  {
   "cell_type": "code",
   "execution_count": 24,
   "metadata": {},
   "outputs": [
    {
     "name": "stdout",
     "output_type": "stream",
     "text": [
      "Celular\n",
      " Notebook\n",
      " Tv\n",
      " Tablet\n",
      " Headset\n"
     ]
    }
   ],
   "source": [
    "produtos = 'Celular, Notebook, Tv, Tablet, Headset'\n",
    "listaProdutos = produtos.split (',')\n",
    "for produto in listaProdutos:\n",
    "    print (produto)\n"
   ]
  },
  {
   "cell_type": "code",
   "execution_count": 25,
   "metadata": {},
   "outputs": [
    {
     "name": "stdout",
     "output_type": "stream",
     "text": [
      "S\n",
      "E\n",
      "N\n",
      "A\n",
      "I\n"
     ]
    }
   ],
   "source": [
    "palavra = 'SENAI'\n",
    "for letra in palavra:\n",
    "    print (letra)"
   ]
  },
  {
   "cell_type": "code",
   "execution_count": 6,
   "metadata": {},
   "outputs": [
    {
     "name": "stdout",
     "output_type": "stream",
     "text": [
      "1º Kiwi \n",
      "2º Morango \n",
      "3º Uva \n",
      "4º Abacaxi \n",
      "5º Manga \n",
      "6º Mexerica \n",
      "7º Amora \n",
      "8º Ameixa \n"
     ]
    }
   ],
   "source": [
    "#Criando uma lista vazia\n",
    "listaComidas = []\n",
    "#Laço de repetição sem um nr de execução definida\n",
    "while True:\n",
    "    #Recebendo informação do usuário e armazenando em uma variável\n",
    "    comida = input ('Digite uma comida que você mais gosta:')\n",
    "    #Inserindo o valor da variável no final da nossa lista\n",
    "    listaComidas.append(comida)\n",
    "    #Obtendo a resposta do usuário se deseja continuar\n",
    "    resp = input ('Deseja continuar? [S/N]')\n",
    "    if resp in'Nn':\n",
    "    #Parando o laço de repetição while\n",
    "     break\n",
    "\n",
    "#Fora do while - após finalizar sua execução e encontrar o break °\n",
    "#Laço de repetição para exibir os itens e suas posições \n",
    "for pos, comida in enumerate(listaComidas):\n",
    "    #Exibindo as variáveis de cada item da lista\n",
    "    print(f'{pos+1}º {comida} ')"
   ]
  },
  {
   "cell_type": "markdown",
   "metadata": {},
   "source": [
    "Aula 11/04/2024 - Funções"
   ]
  },
  {
   "cell_type": "code",
   "execution_count": 1,
   "metadata": {},
   "outputs": [
    {
     "name": "stdout",
     "output_type": "stream",
     "text": [
      "--------------------\n",
      "SESI/SENAI\n",
      "--------------------\n"
     ]
    }
   ],
   "source": [
    "print('-' * 20)\n",
    "print('SESI/SENAI')\n",
    "print('-' * 20)\n"
   ]
  },
  {
   "cell_type": "code",
   "execution_count": 3,
   "metadata": {},
   "outputs": [
    {
     "name": "stdout",
     "output_type": "stream",
     "text": [
      "SESI/SENAI\n"
     ]
    }
   ],
   "source": [
    "def linha ():\n",
    "    print ('-' * 20)\n",
    "     \n",
    "print('SESI/SENAI')"
   ]
  },
  {
   "cell_type": "code",
   "execution_count": 4,
   "metadata": {},
   "outputs": [
    {
     "name": "stdout",
     "output_type": "stream",
     "text": [
      "⚽⚽⚽⚽⚽⚽⚽⚽⚽⚽⚽⚽⚽⚽⚽⚽⚽⚽⚽⚽\n"
     ]
    }
   ],
   "source": [
    "print ('⚽' * 20)"
   ]
  },
  {
   "cell_type": "code",
   "execution_count": 6,
   "metadata": {},
   "outputs": [],
   "source": [
    "def Linha ():\n",
    "    print ('-' * 20)\n",
    "    \n",
    "def Cabeçalho():\n",
    "    Linha()    \n",
    "    print('SESI/SENAI')\n",
    "    Linha ()\n",
    "\n",
    "    Cabeçalho()\n",
    "    Cabeçalho()\n",
    "    Cabeçalho()\n",
    "    \n",
    "\n",
    "    \n"
   ]
  },
  {
   "cell_type": "code",
   "execution_count": 13,
   "metadata": {},
   "outputs": [
    {
     "name": "stdout",
     "output_type": "stream",
     "text": [
      "Gabi,tenha um bom dia\n",
      "Mariana,tenha um bom dia\n",
      "Calilia,tenha um bom dia\n"
     ]
    }
   ],
   "source": [
    "def Saudacao():\n",
    "    nome = input('Digite seu nome')\n",
    "    print (f'{nome},tenha um bom dia')\n",
    "\n",
    "Saudacao()\n",
    "Saudacao()\n",
    "Saudacao()\n"
   ]
  },
  {
   "cell_type": "code",
   "execution_count": 14,
   "metadata": {},
   "outputs": [
    {
     "name": "stdout",
     "output_type": "stream",
     "text": [
      "Digite um nome Gabi 2007\n"
     ]
    }
   ],
   "source": [
    "print ('Digite um nome', 'Gabi', 2007)\n"
   ]
  },
  {
   "cell_type": "code",
   "execution_count": 15,
   "metadata": {},
   "outputs": [
    {
     "name": "stdout",
     "output_type": "stream",
     "text": [
      "A soma de 10 + 5 é 15\n",
      "A soma de 783467 + 48974 é 832441\n",
      "A soma de 79 + 80 é 159\n"
     ]
    }
   ],
   "source": [
    "def Soma (n1, n2):\n",
    "    res = n1 + n2\n",
    "    print(f'A soma de {n1} + {n2} é {res}')\n",
    "\n",
    "Soma (10,5)\n",
    "Soma(783467,48974)\n",
    "Soma (79,80)"
   ]
  },
  {
   "cell_type": "code",
   "execution_count": 18,
   "metadata": {},
   "outputs": [],
   "source": [
    "def parImpar(numero):\n",
    "    if numero % 2==0:\n",
    "        print(f'o número {numero} é par')\n",
    "    else:\n",
    "        print (f'o número {numero} é impar')\n",
    "         "
   ]
  },
  {
   "cell_type": "code",
   "execution_count": 17,
   "metadata": {},
   "outputs": [
    {
     "name": "stdout",
     "output_type": "stream",
     "text": [
      "9.0\n",
      "6.0\n"
     ]
    }
   ],
   "source": [
    "def Media (n1, n2):\n",
    "    res =(n1 + n2) / 2\n",
    "    return(res)\n",
    "\n",
    "#A variável resultado_media recebe o retorno da função Media\n",
    "resultado_media = Media (10,8)\n",
    "print(resultado_media)\n",
    "print(Media(10,2))\n"
   ]
  },
  {
   "cell_type": "code",
   "execution_count": 21,
   "metadata": {},
   "outputs": [
    {
     "name": "stdout",
     "output_type": "stream",
     "text": [
      "25/12/1987\n",
      "27/02/1989\n"
     ]
    }
   ],
   "source": [
    "def FormatarData (d, m, a):\n",
    "    data = (f'{d}/{m}/{a}')\n",
    "    return (data)\n",
    "print(FormatarData(25,12,1987))\n",
    "print(FormatarData(27,'02',1989))\n",
    "    "
   ]
  },
  {
   "cell_type": "markdown",
   "metadata": {},
   "source": [
    "12/04/2024 Escopo de variáveis (Váriavel local e global)"
   ]
  },
  {
   "cell_type": "code",
   "execution_count": 1,
   "metadata": {},
   "outputs": [
    {
     "name": "stdout",
     "output_type": "stream",
     "text": [
      "Valor ANTES da função SENAI\n",
      "Valor dentro da função SESI\n",
      "Valor DEPOIS da função SENAI\n"
     ]
    }
   ],
   "source": [
    "def NomeEscola():\n",
    "    escola = 'SESI'\n",
    "    print(f'Valor dentro da função {escola}')\n",
    "\n",
    "escola = 'SENAI'\n",
    "print(f'Valor ANTES da função {escola}')\n",
    "NomeEscola()\n",
    "print(f'Valor DEPOIS da função {escola}')\n"
   ]
  },
  {
   "cell_type": "code",
   "execution_count": 2,
   "metadata": {},
   "outputs": [
    {
     "name": "stdout",
     "output_type": "stream",
     "text": [
      "Valor ANTES da função SENAI\n",
      "Valor dentro da função SENAI\n",
      "Valor DEPOIS da função SENAI\n"
     ]
    }
   ],
   "source": [
    "\n",
    "def NomeEscola():\n",
    "    # Caso eu queira atualizar o conteúdo da variável escola\n",
    "    # preciso escrever que ela é a global\n",
    "    global escola\n",
    "    escola = 'SENAI' # Alterando o valor da variavel global\n",
    "    print(f'Valor dentro da função {escola}')\n",
    "\n",
    "escola = 'SENAI'\n",
    "print(f'Valor ANTES da função {escola}')\n",
    "NomeEscola()\n",
    "print(f'Valor DEPOIS da função {escola}')\n"
   ]
  },
  {
   "cell_type": "code",
   "execution_count": 3,
   "metadata": {},
   "outputs": [
    {
     "name": "stdout",
     "output_type": "stream",
     "text": [
      "fora da função 10\n",
      "Dentro da função 1\n",
      "fora da função 10\n"
     ]
    }
   ],
   "source": [
    "\n",
    "x = 10 # x é uma variavel global\n",
    "# Podemos acessar x fora de uma função tambem\n",
    "print('fora da função', x)\n",
    "\n",
    "def minhaFuncao() :\n",
    "    x = 0 # <- variavel local (<- = seta kkk) \n",
    "    x = x + 1\n",
    "    print('Dentro da função', x)\n",
    "\n",
    "minhaFuncao()\n",
    "print('fora da função', x)"
   ]
  },
  {
   "cell_type": "code",
   "execution_count": 4,
   "metadata": {},
   "outputs": [
    {
     "name": "stdout",
     "output_type": "stream",
     "text": [
      "fora da função 10\n",
      "Dentro da função 11\n",
      "fora da função 11\n"
     ]
    }
   ],
   "source": [
    "x = 10 # x é uma variavel global\n",
    "# Podemos acessar x fora de uma função tambem\n",
    "print('fora da função', x)\n",
    "\n",
    "def minhaFuncao() :\n",
    "    '''\n",
    "        Aqui posso escrever a descrição do que faz a minha função\n",
    "    '''\n",
    "    global x # Dizendo que usaremos a variavel x global\n",
    "    \n",
    "    x = x + 1\n",
    "    print('Dentro da função', x)\n",
    "\n",
    "minhaFuncao()\n",
    "print('fora da função', x)"
   ]
  }
 ],
 "metadata": {
  "kernelspec": {
   "display_name": "Python 3",
   "language": "python",
   "name": "python3"
  },
  "language_info": {
   "codemirror_mode": {
    "name": "ipython",
    "version": 3
   },
   "file_extension": ".py",
   "mimetype": "text/x-python",
   "name": "python",
   "nbconvert_exporter": "python",
   "pygments_lexer": "ipython3",
   "version": "3.12.3"
  }
 },
 "nbformat": 4,
 "nbformat_minor": 2
}
