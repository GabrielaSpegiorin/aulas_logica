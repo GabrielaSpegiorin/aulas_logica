{
 "cells": [
  {
   "cell_type": "markdown",
   "metadata": {},
   "source": [
    "1- Utilizando o comando for, exiba todos os números ímpares, de 1 a 40.\n"
   ]
  },
  {
   "cell_type": "code",
   "execution_count": 1,
   "metadata": {},
   "outputs": [
    {
     "name": "stdout",
     "output_type": "stream",
     "text": [
      "O numero 1 é impar\n",
      "O numero 3 é impar\n",
      "O numero 5 é impar\n",
      "O numero 7 é impar\n",
      "O numero 9 é impar\n",
      "O numero 11 é impar\n",
      "O numero 13 é impar\n",
      "O numero 15 é impar\n",
      "O numero 17 é impar\n",
      "O numero 19 é impar\n",
      "O numero 21 é impar\n",
      "O numero 23 é impar\n",
      "O numero 25 é impar\n",
      "O numero 27 é impar\n",
      "O numero 29 é impar\n",
      "O numero 31 é impar\n",
      "O numero 33 é impar\n",
      "O numero 35 é impar\n",
      "O numero 37 é impar\n",
      "O numero 39 é impar\n"
     ]
    }
   ],
   "source": [
    "for x in range (1, 40, 2) :\n",
    "    print(f'O numero {x} é impar')"
   ]
  },
  {
   "cell_type": "markdown",
   "metadata": {},
   "source": [
    "\n",
    "2- Gere os 6 números do sorteio da mega-sena de forma aleatória."
   ]
  },
  {
   "cell_type": "code",
   "execution_count": 36,
   "metadata": {},
   "outputs": [
    {
     "name": "stdout",
     "output_type": "stream",
     "text": [
      "22\n",
      "2\n",
      "5\n",
      "13\n",
      "6\n",
      "24\n"
     ]
    }
   ],
   "source": [
    "import random\n",
    "for x in range (1,7):\n",
    "    n =random.randint(1,60)\n",
    "\n",
    "    print(n)"
   ]
  },
  {
   "cell_type": "markdown",
   "metadata": {},
   "source": [
    "3- Receba 5 números e verifique a soma e a quantidade de todos os pares e ímpares digitados"
   ]
  },
  {
   "cell_type": "code",
   "execution_count": 37,
   "metadata": {},
   "outputs": [
    {
     "name": "stdout",
     "output_type": "stream",
     "text": [
      "A soma é 12 são 3 pares e 2 ímpares \n"
     ]
    }
   ],
   "source": [
    "soma = 0\n",
    "qtdePar = 0\n",
    "qtdeImpar = 0\n",
    "\n",
    "for x in range (5):\n",
    "    nr = int(input('Digite o valor. [0 para encerrar]'))\n",
    "    if nr == 0 :\n",
    "        break\n",
    "    if nr % 2 == 0:\n",
    "        qtdePar += 1 #qtdePar = qtdePar + 1\n",
    "    if nr % 2 == 1 :\n",
    "        qtdeImpar += 1 #qtdeImpar = qtdeImpar + 1\n",
    "        soma += nr \n",
    "\n",
    "print(f'A soma é {soma} são {qtdePar} pares e {qtdeImpar} ímpares ')\n"
   ]
  },
  {
   "cell_type": "markdown",
   "metadata": {},
   "source": [
    "4- Solicite os parâmetros de início, fim e passo para o laço de repetição usando a função range()\n",
    "e exiba o valor atual da variável de controle a cada iteração. range( x , y , z )"
   ]
  },
  {
   "cell_type": "code",
   "execution_count": 2,
   "metadata": {},
   "outputs": [
    {
     "name": "stdout",
     "output_type": "stream",
     "text": [
      "10\n",
      "15\n",
      "20\n"
     ]
    }
   ],
   "source": [
    "inicio = int (input('Digite o valor inicial'))\n",
    "fim =int (input('Digite o valor final'))\n",
    "passo = int (input('Digite o passo'))\n",
    "for x in range (inicio, fim, passo):\n",
    "    print(x)"
   ]
  },
  {
   "cell_type": "markdown",
   "metadata": {},
   "source": [
    "5- Ler do teclado a idade e o sexo de 10 pessoas, calcule e imprima:\n",
    "• idade média das mulheres\n",
    "• idade média dos homens\n",
    "• idade média do grupo"
   ]
  },
  {
   "cell_type": "code",
   "execution_count": 1,
   "metadata": {},
   "outputs": [
    {
     "name": "stdout",
     "output_type": "stream",
     "text": [
      "Média das mulheres 20.0\n",
      "Média dos homens 32.0\n",
      "Média grupo 24.8\n"
     ]
    }
   ],
   "source": [
    "soma_mulheres = 0\n",
    "soma_homens = 0\n",
    "quantidade_mulheres = 0\n",
    "quantidade_homens = 0\n",
    "for x in range(5):\n",
    "    idade = int(input('Digite a idade: '))\n",
    "    sexo = input('Digite o sexo: [F/M]')\n",
    "    if sexo == 'F':\n",
    "        soma_mulheres = soma_mulheres + idade\n",
    "        quantidade_mulheres = quantidade_mulheres + 1\n",
    "    else:\n",
    "        soma_homens = soma_homens + idade\n",
    "        quantidade_homens = quantidade_homens + 1\n",
    "print(f'Média das mulheres {soma_mulheres / quantidade_mulheres}')\n",
    "print(f'Média dos homens {soma_homens / quantidade_homens}')\n",
    "print(f'Média grupo {(soma_homens + soma_mulheres) / (quantidade_homens + quantidade_mulheres)}')\n",
    "    \n",
    "\n",
    "    "
   ]
  },
  {
   "cell_type": "markdown",
   "metadata": {},
   "source": [
    "6 - Escreva um programa que mostre todos os números entre 5 e 100 que são dívisiveis por 7. Os números obtidos devem ser espressos em sequência."
   ]
  },
  {
   "cell_type": "code",
   "execution_count": 5,
   "metadata": {},
   "outputs": [
    {
     "name": "stdout",
     "output_type": "stream",
     "text": [
      "7\n",
      "14\n",
      "21\n",
      "28\n",
      "35\n",
      "42\n",
      "49\n",
      "56\n",
      "63\n",
      "70\n",
      "77\n",
      "84\n",
      "91\n",
      "98\n"
     ]
    }
   ],
   "source": [
    "for nr in range (5, 100) :\n",
    "    if nr % 7 == 0 :\n",
    "     print (nr)"
   ]
  },
  {
   "cell_type": "markdown",
   "metadata": {},
   "source": [
    "7- Escreva um programa em Pyton que receba um string do usuário e mostre de trás pra frente "
   ]
  },
  {
   "cell_type": "code",
   "execution_count": 3,
   "metadata": {},
   "outputs": [
    {
     "name": "stdout",
     "output_type": "stream",
     "text": [
      "G\n",
      "aG\n",
      "baG\n",
      "rbaG\n",
      "irbaG\n",
      "eirbaG\n",
      "leirbaG\n",
      "aleirbaG\n"
     ]
    }
   ],
   "source": [
    "palavra = input ('Digite uma palavra:')\n",
    "nova_palavra = ''\n",
    "for letra in palavra:\n",
    "    nova_palavra = letra + nova_palavra\n",
    "\n",
    "    print (nova_palavra)\n",
    "    "
   ]
  }
 ],
 "metadata": {
  "kernelspec": {
   "display_name": "Python 3",
   "language": "python",
   "name": "python3"
  },
  "language_info": {
   "codemirror_mode": {
    "name": "ipython",
    "version": 3
   },
   "file_extension": ".py",
   "mimetype": "text/x-python",
   "name": "python",
   "nbconvert_exporter": "python",
   "pygments_lexer": "ipython3",
   "version": "3.12.3"
  }
 },
 "nbformat": 4,
 "nbformat_minor": 2
}
