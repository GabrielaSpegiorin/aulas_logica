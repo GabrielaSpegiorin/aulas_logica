{
 "cells": [
  {
   "cell_type": "markdown",
   "metadata": {},
   "source": [
    "1- Crie uma lista de filmes com 7 filmes a sua escolha, e faça as seguintes operações com ela:\n",
    "• Exiba apenas o primeiro o filme da lista\n",
    "• Exiba o filme da posição 4\n",
    "• Substitua o filme da última posição e exiba a lista\n",
    "• Insira um novo filme no final da lista e exiba a lista\n",
    "• Insira um novo filme na posição 5 e exiba a lista\n",
    "• Exclua o primeiro filme e exiba a lista\n",
    "• Exclua o último filme e exiba a lista\n",
    "• Exiba os 3 primeiros filmes da lista\n",
    "• Exiba os 4 últimos filmes da lista\n",
    "• Exiba a quantidade de filmes atualmente na lista\n",
    "• Ordene os filmes em ordem decrescente e exiba-os"
   ]
  },
  {
   "cell_type": "code",
   "execution_count": null,
   "metadata": {},
   "outputs": [],
   "source": [
    "#exiba o primeiro filme da lista\n",
    "filmes = ['Homem Aranha','Thor', 'Deadpool', 'Hulk', 'Batman', 'capitao america', 'homem de ferro'] \n",
    "print(filmes[0])\n",
    "\n",
    "# Exiba o filme da posição 4\n",
    "print(filmes[3])\n",
    "\n",
    "\n",
    "# Substitua o filme da última posição e exiba a lista\n",
    "filmes[6] = 'Frozen'\n",
    "print(filmes)\n",
    "\n",
    "# Insira um novo filme no final da lista e exiba a lista\n",
    "filmes.append('barbie')\n",
    "print(filmes)\n",
    "\n",
    "\n",
    "# Insira um novo filme na posição 5 e exiba a lista\n",
    "filmes.insert(5, 'Branca de neve')\n",
    "print(filmes)\n",
    "\n",
    "# Exclua o primeiro filme e exiba a lista\n",
    "filmes.pop(0)\n",
    "print(filmes)\n",
    "\n",
    "# Exclua o último filme e exiba a lista\n",
    "filmes.pop(7)\n",
    "print(filmes)\n",
    "\n",
    "# Exiba os 3 primeiros filmes da lista\n",
    "print(filmes[0:3]) \n",
    "\n",
    "# Exiba os 4 últimos filmes da lista\n",
    "print(filmes[3:7])\n",
    "\n",
    "# Exiba a quantidade de filmes atualmente na lista\n",
    "print(len(filmes))\n",
    "\n",
    "# Ordene os filmes em ordem decrescente e exiba-os\n",
    "filmes.reverse()\n",
    "print(filmes)"
   ]
  },
  {
   "cell_type": "markdown",
   "metadata": {},
   "source": [
    "2- Crie uma lista com os 20 times do campeonato brasileiro de futebol\n",
    "• Exiba o primeiro time da lista como campeão\n",
    "• Exiba os 4 primeiros times como que irão jogar a libertadores\n",
    "• Exiba os 4 últimos times como os que estão rebaixados para a série B"
   ]
  },
  {
   "cell_type": "code",
   "execution_count": null,
   "metadata": {},
   "outputs": [],
   "source": [
    "Times = ('Santos', 'Palmeiras', 'Grêmio', 'Internacional', 'Athletico-PR', 'Atlético-MG', 'Bahia', 'Botafogo',' Bragantino', 'Corinthians', 'Criciúma',\t'Cruzeiro', 'Cuiabá', 'Flamengo','Fluminense','Fortaleza', 'São Paulo','Vasco', 'Vitória',\t'Atlético - GO')\n",
    "print(len(times))\n",
    "print(Times[0],\" é campeao\")\n",
    "print(Times[0:4], \"vao jogar a liberta\")\n",
    "print(Times[-4:],\"Estao rebaixados\")\n",
    "\n"
   ]
  },
  {
   "cell_type": "markdown",
   "metadata": {},
   "source": [
    "3- Crie um programa que receba do usuário através do input 6 comidas e refaça todos\n",
    "os itens do exercício 1"
   ]
  }
 ],
 "metadata": {
  "language_info": {
   "name": "python"
  }
 },
 "nbformat": 4,
 "nbformat_minor": 2
}
