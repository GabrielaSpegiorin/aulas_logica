{
 "cells": [
  {
   "cell_type": "markdown",
   "metadata": {},
   "source": [
    "1-Crie uma lista com os números de 1 a 10 e imprima cada número."
   ]
  },
  {
   "cell_type": "code",
   "execution_count": null,
   "metadata": {},
   "outputs": [
    {
     "name": "stdout",
     "output_type": "stream",
     "text": [
      "1\n",
      "2\n",
      "3\n",
      "4\n",
      "5\n",
      "6\n",
      "7\n",
      "8\n",
      "9\n",
      "10\n"
     ]
    }
   ],
   "source": [
    "listanmrs = ['1','2', '3', '4', '5', '6', '7', '8', '9', '10']\n",
    "for numero in listanmrs:\n",
    "    print (numero)\n"
   ]
  },
  {
   "cell_type": "markdown",
   "metadata": {},
   "source": [
    "2-Crie uma lista com os nomes de três amigos e imprima cada nome."
   ]
  },
  {
   "cell_type": "code",
   "execution_count": null,
   "metadata": {},
   "outputs": [
    {
     "name": "stdout",
     "output_type": "stream",
     "text": [
      "Mariana\n",
      "Livyhan\n",
      "Camila\n"
     ]
    }
   ],
   "source": [
    "listanomes = ['Mariana', 'Livyhan','Camila']\n",
    "for nomes in listanomes:\n",
    "    print (nomes)"
   ]
  },
  {
   "cell_type": "markdown",
   "metadata": {},
   "source": [
    "3-Crie uma lista com os meses do ano e imprima apenas os meses que começam com \"J\"."
   ]
  },
  {
   "cell_type": "code",
   "execution_count": null,
   "metadata": {},
   "outputs": [
    {
     "name": "stdout",
     "output_type": "stream",
     "text": [
      "Janeiro\n",
      "Junho\n",
      "Julho\n"
     ]
    }
   ],
   "source": [
    "listameses = ['Janeiro', 'Fevereiro', 'Março', 'Abril', 'Maio', 'Junho', 'Julho', 'Agosto', 'Setembro', 'Outubro', 'Novembro', 'Dezembro']\n",
    "for mês in listameses: \n",
    "    if mês [0] == 'J':\n",
    "        print (mês)"
   ]
  },
  {
   "cell_type": "markdown",
   "metadata": {},
   "source": [
    "4-Crie uma lista com as palavras \"gato\", \"cachorro\", \"pássaro\" e \"peixe\", e imprima cada palavra\n",
    "em maiúsculas."
   ]
  },
  {
   "cell_type": "code",
   "execution_count": null,
   "metadata": {},
   "outputs": [
    {
     "name": "stdout",
     "output_type": "stream",
     "text": [
      "GATO\n",
      "CACHORRO\n",
      "PÁSSARO\n",
      "PEIXE\n"
     ]
    }
   ],
   "source": [
    "listaanimal = ['Gato', 'Cachorro', 'Pássaro','Peixe']\n",
    "for animal in listaanimal:\n",
    "    print(animal.upper())\n"
   ]
  },
  {
   "cell_type": "markdown",
   "metadata": {},
   "source": [
    "5-Crie uma lista com 5 números aleatórios e exiba o nr e seu dobro desse."
   ]
  },
  {
   "cell_type": "code",
   "execution_count": null,
   "metadata": {},
   "outputs": [
    {
     "name": "stdout",
     "output_type": "stream",
     "text": [
      "40\n",
      "62\n",
      "16\n",
      "8\n",
      "48\n"
     ]
    }
   ],
   "source": [
    "listanumero = [20,31,8,4,24]\n",
    "for numero in listanumero:\n",
    "    print (numero *2)"
   ]
  },
  {
   "cell_type": "markdown",
   "metadata": {},
   "source": [
    "6-Crie uma lista com valores numéricos e encontre o maior e o menor elemento dessa lista."
   ]
  },
  {
   "cell_type": "code",
   "execution_count": 41,
   "metadata": {},
   "outputs": [
    {
     "name": "stdout",
     "output_type": "stream",
     "text": [
      "2 100000\n",
      "20\n",
      "2\n"
     ]
    }
   ],
   "source": [
    "valornumerico = [3,2,8,9,20]\n",
    "menornr = 100000\n",
    "maiornr = 0\n",
    "for numeroAtual in valornumerico:\n",
    "    if numeroAtual > maiornr:\n",
    "        maiornr = 100000\n",
    "    if numeroAtual < menornr:\n",
    "        menornr = numeroAtual\n",
    "        \n",
    "print (menornr, maiornr)\n",
    "\n",
    "\n",
    "#Ultilizando as funções prontas do Pyton\n",
    "print(max(valornumerico))\n",
    "print(min(valornumerico))\n",
    "\n"
   ]
  },
  {
   "cell_type": "markdown",
   "metadata": {},
   "source": [
    "7-Receba uma palavra do usuário e calcule quantas vogais há nesta palavra."
   ]
  },
  {
   "cell_type": "code",
   "execution_count": 46,
   "metadata": {},
   "outputs": [
    {
     "name": "stdout",
     "output_type": "stream",
     "text": [
      "A palavra Gabriela tem 4 vogais\n"
     ]
    }
   ],
   "source": [
    "palavra = input ('Digite uma palavra')\n",
    "vogais = ['a','e','i','o', 'u']\n",
    "qtdevogais = 0\n",
    "for letra in palavra:\n",
    "    if letra.lower() in vogais :\n",
    "        qtdevogais = qtdevogais +1\n",
    "\n",
    "print(f'A palavra {palavra} tem {qtdevogais} vogais')\n",
    "\n"
   ]
  }
 ],
 "metadata": {
  "kernelspec": {
   "display_name": "Python 3",
   "language": "python",
   "name": "python3"
  },
  "language_info": {
   "codemirror_mode": {
    "name": "ipython",
    "version": 3
   },
   "file_extension": ".py",
   "mimetype": "text/x-python",
   "name": "python",
   "nbconvert_exporter": "python",
   "pygments_lexer": "ipython3",
   "version": "3.12.2"
  }
 },
 "nbformat": 4,
 "nbformat_minor": 2
}
