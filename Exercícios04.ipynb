{
 "cells": [
  {
   "cell_type": "markdown",
   "metadata": {},
   "source": [
    "1 - Peça o salário do funcionário e calcule o valor do IRPF e INSS do funcionário e quanto ele irá\n",
    "receber no final do mês, considerando a seguinte tabela:"
   ]
  },
  {
   "cell_type": "code",
   "execution_count": null,
   "metadata": {},
   "outputs": [],
   "source": [
    "salario = float(input('Digite o salario:'))\n",
    "#Considerando a tabela de IRPF\n",
    "if salario <= 2259:\n",
    "  desconto_irpf = 0\n",
    "elif salario <= 2826.65:\n",
    "  desconto_irpf = salario *0.075\n",
    "elif salario <= 3751.05:\n",
    "  desconto_irpf = salario * 0.15\n",
    "elif salario <= 4664.68:\n",
    "  desconto_irpf = salario * 0.225\n",
    "else:\n",
    "  desconto_irpf = salario * 0.275\n",
    "\n",
    "#Considerando a tabela de INSS\n",
    "\n",
    "  "
   ]
  }
 ],
 "metadata": {
  "language_info": {
   "name": "python"
  }
 },
 "nbformat": 4,
 "nbformat_minor": 2
}
