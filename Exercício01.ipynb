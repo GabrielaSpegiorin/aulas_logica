{
 "cells": [
  {
   "cell_type": "markdown",
   "metadata": {},
   "source": [
    "Exercício 00"
   ]
  },
  {
   "cell_type": "code",
   "execution_count": 7,
   "metadata": {},
   "outputs": [
    {
     "name": "stdout",
     "output_type": "stream",
     "text": [
      "<class 'type'>\n"
     ]
    }
   ],
   "source": [
    "print (type)\n"
   ]
  },
  {
   "cell_type": "markdown",
   "metadata": {},
   "source": [
    "Exercício 01"
   ]
  },
  {
   "cell_type": "code",
   "execution_count": 6,
   "metadata": {},
   "outputs": [
    {
     "name": "stdout",
     "output_type": "stream",
     "text": [
      "86\n"
     ]
    }
   ],
   "source": [
    "print('8' + '6')"
   ]
  },
  {
   "cell_type": "markdown",
   "metadata": {},
   "source": [
    "Execício 02"
   ]
  },
  {
   "cell_type": "code",
   "execution_count": 9,
   "metadata": {},
   "outputs": [
    {
     "name": "stdout",
     "output_type": "stream",
     "text": [
      "O sucessor de 500 é: 501\n",
      "O antecessor de 500 é: 499\n"
     ]
    }
   ],
   "source": [
    "#Função para ler um número\n",
    "numero = float(input(\"Digite um número:\"))\n",
    "\n",
    "#Função para mostrar seu sucessor e antecessor\n",
    "numero = 500\n",
    "print(\"O sucessor de\", numero, \"é:\", numero + 1)\n",
    "print(\"O antecessor de\", numero, \"é:\", numero - 1)\n"
   ]
  },
  {
   "cell_type": "markdown",
   "metadata": {},
   "source": [
    "Exercício 03 "
   ]
  },
  {
   "cell_type": "code",
   "execution_count": 5,
   "metadata": {},
   "outputs": [
    {
     "name": "stdout",
     "output_type": "stream",
     "text": [
      "(4, 6, 1.4142135623730951)\n"
     ]
    }
   ],
   "source": [
    "#Função para ler um número\n",
    "numero = float(input(\"Digite um número:\"))\n",
    "\n",
    "#Função para mostrar o dobro, triplo e raiz quadrada do número\n",
    "numero = 2 \n",
    "resultado = numero * 2, numero * 3, numero ** 0.5 \n",
    "print (resultado)\n",
    "\n"
   ]
  },
  {
   "cell_type": "markdown",
   "metadata": {},
   "source": [
    "Exercício 04"
   ]
  },
  {
   "cell_type": "code",
   "execution_count": 14,
   "metadata": {},
   "outputs": [
    {
     "name": "stdout",
     "output_type": "stream",
     "text": [
      "9.5\n"
     ]
    }
   ],
   "source": [
    "nota1 = float(input('Qual a primeira nota'))\n",
    "nota2 = float(input('Qual é a nota'))\n",
    "somas = nota1 + nota2\n",
    "resultado = somas/2\n",
    "print(resultado) "
   ]
  },
  {
   "cell_type": "markdown",
   "metadata": {},
   "source": [
    "Exercício 05"
   ]
  },
  {
   "cell_type": "code",
   "execution_count": 15,
   "metadata": {},
   "outputs": [
    {
     "name": "stdout",
     "output_type": "stream",
     "text": [
      "1000 10000\n"
     ]
    }
   ],
   "source": [
    "metros = int(input('quantos metros'))\n",
    "resultado2 = metros * 100\n",
    "resultado3 = metros * 1000\n",
    "print (resultado2,resultado3)"
   ]
  },
  {
   "cell_type": "markdown",
   "metadata": {},
   "source": [
    "Exercício 6 "
   ]
  },
  {
   "cell_type": "code",
   "execution_count": 6,
   "metadata": {},
   "outputs": [
    {
     "name": "stdout",
     "output_type": "stream",
     "text": [
      "9 x 1=9\n",
      "9 x 2=18\n",
      "9 x 3=27\n",
      "9 x 4=36\n",
      "9 x 5=45\n",
      "9 x 6=54\n",
      "9 x 7=63\n",
      "9 x 8=72\n",
      "9 x 9=81\n",
      "9 x 10=90\n"
     ]
    }
   ],
   "source": [
    "numero = int(input('digite um numero'))\n",
    "for i in range(1,11):\n",
    " print (f'{numero} x {i}={numero*i}')\n"
   ]
  },
  {
   "cell_type": "markdown",
   "metadata": {},
   "source": [
    "Exercício 7"
   ]
  },
  {
   "cell_type": "code",
   "execution_count": 7,
   "metadata": {},
   "outputs": [
    {
     "name": "stdout",
     "output_type": "stream",
     "text": [
      "Você tem $ 20.04\n"
     ]
    }
   ],
   "source": [
    "real = float(input('Digite o valor em R$'))\n",
    "dolar = real / 4.99\n",
    "print(f'Você tem $ {dolar:.2f}')\n"
   ]
  },
  {
   "cell_type": "markdown",
   "metadata": {},
   "source": [
    "Exercício 8"
   ]
  },
  {
   "cell_type": "code",
   "execution_count": 9,
   "metadata": {},
   "outputs": [
    {
     "name": "stdout",
     "output_type": "stream",
     "text": [
      "para pintar uma área de 800.0 m², preciso de 400.01\n"
     ]
    }
   ],
   "source": [
    "altura = float(input('Digite a altura'))\n",
    "largura = float(input('Digite a largura'))\n",
    "area = altura * largura \n",
    "litros = area / 2\n",
    "print (f'para pintar uma área de {area} m², preciso de {litros}1')\n"
   ]
  },
  {
   "cell_type": "markdown",
   "metadata": {},
   "source": [
    "Exercício 9"
   ]
  },
  {
   "cell_type": "code",
   "execution_count": 8,
   "metadata": {},
   "outputs": [
    {
     "name": "stdout",
     "output_type": "stream",
     "text": [
      "5.0\n"
     ]
    }
   ],
   "source": [
    "valor = float(input('Digite o valor:'))\n",
    "desconto = 5\n",
    "valor = valor - desconto\n",
    "print (valor)"
   ]
  },
  {
   "cell_type": "markdown",
   "metadata": {},
   "source": [
    "Exercício 10"
   ]
  },
  {
   "cell_type": "code",
   "execution_count": 10,
   "metadata": {},
   "outputs": [
    {
     "name": "stdout",
     "output_type": "stream",
     "text": [
      "1725.0\n"
     ]
    }
   ],
   "source": [
    "salario = float(input('Digite o salario:'))\n",
    "aumento = (salario / 100) * 15 \n",
    "salario = salario + aumento\n",
    "print(salario) "
   ]
  },
  {
   "cell_type": "markdown",
   "metadata": {},
   "source": [
    "Exercício 11"
   ]
  },
  {
   "cell_type": "code",
   "execution_count": 11,
   "metadata": {},
   "outputs": [
    {
     "name": "stdout",
     "output_type": "stream",
     "text": [
      "35.0ºC é igual a 95.0ºF\n"
     ]
    }
   ],
   "source": [
    "graus = float(input('Digite a temperatura em ºC'))\n",
    "valor = graus * 1.8 + 32\n",
    "print (f'{graus}ºC é igual a {valor}ºF')\n"
   ]
  },
  {
   "cell_type": "markdown",
   "metadata": {},
   "source": [
    "Exercício 12"
   ]
  },
  {
   "cell_type": "code",
   "execution_count": 12,
   "metadata": {},
   "outputs": [
    {
     "name": "stdout",
     "output_type": "stream",
     "text": [
      "o valor total será R$ 120.75\n"
     ]
    }
   ],
   "source": [
    "km_percorrido = float(input('Digite o km percorrido:'))\n",
    "dias = int(input('Digite a quantidade de dias:'))\n",
    "pagar = (60 * dias) + (0.15 * km_percorrido)\n",
    "print (f'o valor total será R$ {pagar:.2f}')\n"
   ]
  }
 ],
 "metadata": {
  "kernelspec": {
   "display_name": "Python 3",
   "language": "python",
   "name": "python3"
  },
  "language_info": {
   "codemirror_mode": {
    "name": "ipython",
    "version": 3
   },
   "file_extension": ".py",
   "mimetype": "text/x-python",
   "name": "python",
   "nbconvert_exporter": "python",
   "pygments_lexer": "ipython3",
   "version": "3.12.2"
  }
 },
 "nbformat": 4,
 "nbformat_minor": 2
}
