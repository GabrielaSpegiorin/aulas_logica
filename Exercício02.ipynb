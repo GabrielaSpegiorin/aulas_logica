{
 "cells": [
  {
   "cell_type": "markdown",
   "metadata": {},
   "source": [
    "Exercício 1"
   ]
  },
  {
   "cell_type": "code",
   "execution_count": 1,
   "metadata": {},
   "outputs": [
    {
     "name": "stdout",
     "output_type": "stream",
     "text": [
      "aprovado\n"
     ]
    }
   ],
   "source": [
    "n1 =float(input(\"digite a nota\"))\n",
    "n2 =float(input(\"digite a segunda nota\"))\n",
    "notafinal = (n1 + n2) / 2\n",
    "if notafinal < 7 :\n",
    "    print(\"reprovado\")\n",
    "else:\n",
    "    print(\"aprovado\")"
   ]
  },
  {
   "cell_type": "markdown",
   "metadata": {},
   "source": [
    "Exercício 2"
   ]
  },
  {
   "cell_type": "code",
   "execution_count": 2,
   "metadata": {},
   "outputs": [
    {
     "name": "stdout",
     "output_type": "stream",
     "text": [
      "é menor \n"
     ]
    }
   ],
   "source": [
    "def new_func():\n",
    "    n1 = float(input(\"digite seu numero\"))\n",
    "    n2 = float(input(\"digite segundo numero\"))\n",
    "    if n1>n2 :\n",
    "        print(\"é maior que n2\")\n",
    "    else:\n",
    "        print(\"é menor\")\n",
    "\n",
    "new_func()"
   ]
  },
  {
   "cell_type": "markdown",
   "metadata": {},
   "source": [
    "Exercício 3 "
   ]
  },
  {
   "cell_type": "code",
   "execution_count": 7,
   "metadata": {},
   "outputs": [
    {
     "name": "stdout",
     "output_type": "stream",
     "text": [
      "é par\n"
     ]
    }
   ],
   "source": [
    "numero = int(input('Digite um número'))\n",
    "if numero % 2 == 0:\n",
    "    print ('é par')\n",
    "else:\n",
    "    print ('é impar')\n",
    "    \n"
   ]
  },
  {
   "cell_type": "markdown",
   "metadata": {},
   "source": [
    "Exercício 4"
   ]
  },
  {
   "cell_type": "code",
   "execution_count": 13,
   "metadata": {},
   "outputs": [
    {
     "name": "stdout",
     "output_type": "stream",
     "text": [
      "é positivo\n"
     ]
    }
   ],
   "source": [
    "numero = int(input('Digite um número'))\n",
    "if numero < 0:\n",
    "    print ('é negativo')\n",
    "else:\n",
    "    print ('é positivo')"
   ]
  },
  {
   "cell_type": "markdown",
   "metadata": {},
   "source": [
    "Exercício 5"
   ]
  },
  {
   "cell_type": "code",
   "execution_count": 17,
   "metadata": {},
   "outputs": [
    {
     "name": "stdout",
     "output_type": "stream",
     "text": [
      "Menor de idade\n"
     ]
    }
   ],
   "source": [
    "numero = int(input('Digite seu ano de nascimento'))\n",
    "if numero < 2006:\n",
    "    print ('Maior de idade')\n",
    "else:\n",
    "    print ('Menor de idade')"
   ]
  },
  {
   "cell_type": "markdown",
   "metadata": {},
   "source": [
    "Exercício 6"
   ]
  },
  {
   "cell_type": "code",
   "execution_count": 29,
   "metadata": {},
   "outputs": [
    {
     "name": "stdout",
     "output_type": "stream",
     "text": [
      "São iguais\n"
     ]
    }
   ],
   "source": [
    "n1 = int(input('Digite seu número'))\n",
    "n2 = int(input('Digite o segundo número'))\n",
    "if n1 == n2:\n",
    "    print (\"São iguais\")\n",
    "else:\n",
    "    print ('São diferentes')"
   ]
  },
  {
   "cell_type": "markdown",
   "metadata": {},
   "source": [
    "Exercício 7"
   ]
  },
  {
   "cell_type": "code",
   "execution_count": 33,
   "metadata": {},
   "outputs": [
    {
     "name": "stdout",
     "output_type": "stream",
     "text": [
      "Sua velocidade ultrapassou o limite de velocidade e terá que pagar 70.0R$\n"
     ]
    }
   ],
   "source": [
    "velocidade = float(input('Sua velocidade'))\n",
    "if velocidade>80:\n",
    " taxa = velocidade-80\n",
    " print (f\"Sua velocidade ultrapassou o limite de velocidade e terá que pagar {taxa*7}R$\")\n",
    "else:\n",
    " print('Sem multa')\n",
    "\n"
   ]
  }
 ],
 "metadata": {
  "kernelspec": {
   "display_name": "Python 3",
   "language": "python",
   "name": "python3"
  },
  "language_info": {
   "codemirror_mode": {
    "name": "ipython",
    "version": 3
   },
   "file_extension": ".py",
   "mimetype": "text/x-python",
   "name": "python",
   "nbconvert_exporter": "python",
   "pygments_lexer": "ipython3",
   "version": "3.12.2"
  }
 },
 "nbformat": 4,
 "nbformat_minor": 2
}
