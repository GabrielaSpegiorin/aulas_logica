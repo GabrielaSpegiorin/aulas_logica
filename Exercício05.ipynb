{
 "cells": [
  {
   "cell_type": "markdown",
   "metadata": {},
   "source": [
    "1- Utilizando o comando while, exiba todos os números pares, de 1 a 20."
   ]
  },
  {
   "cell_type": "code",
   "execution_count": null,
   "metadata": {},
   "outputs": [],
   "source": [
    "x = 1\n",
    "while x <= 20 :\n",
    "    if x % 2 == 0 :\n",
    "        print(f'O número {x} é par')\n",
    "    x = x + 1 "
   ]
  },
  {
   "cell_type": "markdown",
   "metadata": {},
   "source": [
    "\n",
    "2- Gere os 6 números do sorteio da mega-sena de forma aleatória."
   ]
  },
  {
   "cell_type": "code",
   "execution_count": 1,
   "metadata": {},
   "outputs": [
    {
     "name": "stdout",
     "output_type": "stream",
     "text": [
      "os numeros sorteados são 51, 5, 54, 17, 11, 52\n"
     ]
    }
   ],
   "source": [
    "import random\n",
    "n1 = random.randint(1, 60)\n",
    "n2 = random.randint(1, 60)\n",
    "n3 = random.randint(1, 60)\n",
    "n4 = random.randint(1, 60)\n",
    "n5 = random.randint(1, 60)\n",
    "n6 = random.randint(1, 60)\n",
    "\n",
    "print(f'os numeros sorteados são {n1}, {n2}, {n3}, {n4}, {n5}, {n6}')"
   ]
  },
  {
   "cell_type": "markdown",
   "metadata": {},
   "source": [
    "3- Receba alguns número e verifique a soma e a quantidade de todos os pares e ímpares\n",
    "digitados, digite 0 para não receber mais\n"
   ]
  },
  {
   "cell_type": "code",
   "execution_count": 2,
   "metadata": {},
   "outputs": [],
   "source": [
    "soma = 0\n",
    "qtdePar = 0\n",
    "qtdeImpar = 0\n",
    "\n",
    "while True :\n",
    "    nr = int(input('Digite o valor. [0 para encerrar]'))\n",
    "    if nr == 0 :\n",
    "        break\n",
    "    if nr % 2 == 0:\n",
    "        qtdePar += 1 #qtdePar = qtdePar + 1\n",
    "        if nr % 2 == 1 :\n",
    "            qtdeImpar += 1 #qtdeImpar = qtdeImpar + 1\n",
    "            soma += nr \n",
    "\n",
    "            print(f'A soma é {soma} são {qtdePar} pares e {qtdeImpar} ímpares ')\n",
    "              \n",
    "     "
   ]
  },
  {
   "cell_type": "markdown",
   "metadata": {},
   "source": [
    "4- Faça um programa em Python que leia 5 valores inteiros e:\n",
    "• Encontre e mostre o maior valor\n",
    "• Encontre e mostre o menor valor\n",
    "• Calcule e mostre a média dos números lidos"
   ]
  },
  {
   "cell_type": "code",
   "execution_count": null,
   "metadata": {},
   "outputs": [],
   "source": []
  },
  {
   "cell_type": "markdown",
   "metadata": {},
   "source": [
    "5- Faça um programa que receba um número e mostre seu fatorial. Ex. :\n",
    "5! = 5 * 4 * 3 * 2 * 1 = 120"
   ]
  }
 ],
 "metadata": {
  "kernelspec": {
   "display_name": "Python 3",
   "language": "python",
   "name": "python3"
  },
  "language_info": {
   "codemirror_mode": {
    "name": "ipython",
    "version": 3
   },
   "file_extension": ".py",
   "mimetype": "text/x-python",
   "name": "python",
   "nbconvert_exporter": "python",
   "pygments_lexer": "ipython3",
   "version": "3.12.3"
  }
 },
 "nbformat": 4,
 "nbformat_minor": 2
}
